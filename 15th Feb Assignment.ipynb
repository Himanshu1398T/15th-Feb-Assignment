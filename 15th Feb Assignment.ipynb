{
 "cells": [
  {
   "cell_type": "markdown",
   "id": "b684f128-be5a-43a5-be13-8a3f83f8bfa3",
   "metadata": {},
   "source": [
    "### Q1. What is multiprocessing in python? Why is it useful?"
   ]
  },
  {
   "cell_type": "markdown",
   "id": "f59d3aef-bcf3-4653-bc0d-cb5c71e914c6",
   "metadata": {},
   "source": [
    "#### Ans:\n",
    "Multiprocessing in Python is the ability to execute multiple processes or sub-programs simultaneously to perform a specific task. It is a technique that enables a Python program to leverage the available processing power of a computer system to improve performance.\n",
    "\n",
    "***\n",
    "Multiprocessing is useful in several ways:\n",
    "\n",
    "1. Increased performance: Multiprocessing allows a Python program to utilize multiple CPUs or cores of a computer system to execute tasks concurrently, thereby increasing the overall performance of the program.\n",
    "\n",
    "2. Improved resource utilization: By distributing tasks across multiple processes, multiprocessing enables a program to utilize available system resources more efficiently, such as CPU, memory, and I/O.\n",
    "\n",
    "3. Simplified parallel programming: The multiprocessing module provides a convenient way to parallelize a task without having to manage the details of process creation and communication."
   ]
  },
  {
   "cell_type": "markdown",
   "id": "2a3feaaf-3d2d-4fa1-817b-a8ab27964675",
   "metadata": {},
   "source": [
    "### Q2. What are the differences between multiprocessing and multithreading?"
   ]
  },
  {
   "cell_type": "markdown",
   "id": "86b3d5ae-fdaf-43fc-9c55-c1ee70e4c08e",
   "metadata": {},
   "source": [
    "#### Ans:\n",
    "1. Memory sharing: In multiprocessing, each process has its own memory space, while in multithreading, all threads share the same memory space of the parent process.\n",
    "\n",
    "2. Resource utilization: Multiprocessing can utilize multiple CPUs or cores of a computer system, while multithreading can only utilize a single CPU or core.\n",
    "\n",
    "3. Communication: In multiprocessing, processes can communicate with each other through inter-process communication mechanisms such as pipes and queues, while in multithreading, communication between threads is typically done through shared memory.\n",
    "\n",
    "4. Overhead: Multiprocessing has higher overhead due to the creation of new processes and communication between them, while multithreading has lower overhead since threads are lightweight and share memory.\n",
    "\n",
    "5. Global Interpreter Lock: Multiprocessing is not affected by the Global Interpreter Lock, which limits the execution of multiple threads in Python, while multithreading is subject to the GIL and may not achieve true parallel execution."
   ]
  },
  {
   "cell_type": "markdown",
   "id": "7e9a9843-1fa2-42d7-9c25-16abf00e0f63",
   "metadata": {},
   "source": [
    "### Q3. Write a python code to create a process using the multiprocessing module."
   ]
  },
  {
   "cell_type": "code",
   "execution_count": 1,
   "id": "5cbe9baf-3aeb-4423-9147-463c440360c4",
   "metadata": {},
   "outputs": [
    {
     "name": "stdout",
     "output_type": "stream",
     "text": [
      "[8, 27, 64, 125, 216]\n"
     ]
    }
   ],
   "source": [
    "import multiprocessing\n",
    "\n",
    "def cube(x):\n",
    "  return x**3\n",
    "\n",
    "if __name__ == '__main__':\n",
    "    numbers = [2,3,4,5,6]\n",
    "    with multiprocessing.Pool(processes=3) as pool:\n",
    "        out = pool.map(cube, numbers)\n",
    "        print(out)"
   ]
  },
  {
   "cell_type": "markdown",
   "id": "3ce69f5d-2177-4f37-a8b9-d3a6500a6030",
   "metadata": {},
   "source": [
    "### Q4. What is a multiprocessing pool in python? Why is it used?"
   ]
  },
  {
   "cell_type": "markdown",
   "id": "04ce1563-e7d1-44b1-b36a-3b0c25225ba7",
   "metadata": {},
   "source": [
    "#### Ans:\n",
    "A multiprocessing pool in Python is a way to distribute a workload across multiple CPU cores by creating a pool of worker processes. Each process in the pool can execute tasks concurrently, allowing for faster processing of the workload.\n",
    "\n",
    "multiprocessing pool is used when we have a large dataset or a computationally intensive task that needs to be processed, and we want to speed up the processing time by using multiple CPU cores. By using a multiprocessing pool, we can distribute the workload across multiple CPU cores, which can lead to significant improvements in processing time.\n",
    "For example, we have a list of URLs that needs to be downloaded and processed. We can use a multiprocessing pool to download and process the URLs in parallel, with each worker process downloading and processing a subset of the URLs. This can lead to faster processing times compared to downloading and processing the URLs sequentially on a single CPU core."
   ]
  },
  {
   "cell_type": "markdown",
   "id": "d834d6ad-2218-4f54-aaf5-5631016dd871",
   "metadata": {},
   "source": [
    "### Q5. How can we create a pool of worker processes in python using the multiprocessing module?"
   ]
  },
  {
   "cell_type": "markdown",
   "id": "5385404c-b515-404e-9352-402af999d544",
   "metadata": {},
   "source": [
    "#### Ans:\n",
    "The following steps can be used to create a pool of worker processes:\n",
    "1. Import multiprocessing module\n",
    "2. Define a worker_function that takes a task as input, perform some procrsses and returns the result.\n",
    "3. In if__name__ == '__ main __': block, create a list of tasks to be done.\n",
    "4. using with multiprocessing.Pool(processes = 'number of processes') as pool, to initiate the pooling.\n",
    "4. Use pool.map() to distribute the tasks to the worker processes in the pool.\n",
    "5. In the end we can get the result, can be done using print."
   ]
  },
  {
   "cell_type": "code",
   "execution_count": 2,
   "id": "4c5bcba0-67ee-4d8a-b896-62c12c49c128",
   "metadata": {},
   "outputs": [
    {
     "name": "stdout",
     "output_type": "stream",
     "text": [
      "[1.0, 1.4142135623730951, 1.7320508075688772, 2.0, 2.23606797749979, 2.449489742783178, 2.6457513110645907, 2.8284271247461903, 3.0, 3.1622776601683795, 3.3166247903554, 3.4641016151377544, 3.605551275463989, 3.7416573867739413, 3.872983346207417, 4.0, 4.123105625617661, 4.242640687119285, 4.358898943540674, 4.47213595499958, 4.58257569495584, 4.69041575982343, 4.795831523312719, 4.898979485566356, 5.0, 5.0990195135927845, 5.196152422706632, 5.291502622129181, 5.385164807134504, 5.477225575051661, 5.5677643628300215, 5.656854249492381, 5.744562646538029, 5.830951894845301, 5.916079783099616, 6.0, 6.082762530298219, 6.164414002968976, 6.244997998398398, 6.324555320336759, 6.4031242374328485, 6.48074069840786, 6.557438524302, 6.6332495807108, 6.708203932499369, 6.782329983125268, 6.855654600401044, 6.928203230275509, 7.0, 7.0710678118654755]\n"
     ]
    }
   ],
   "source": [
    "import multiprocessing\n",
    "\n",
    "def sq_root(numbers):\n",
    "    return numbers**(0.5)\n",
    "\n",
    "if __name__ == '__main__':\n",
    "    \n",
    "    numbers_list = [i for i in range(1, 51)]\n",
    "    \n",
    "    with multiprocessing.Pool(processes=8) as pool:\n",
    "        out = pool.map(sq_root, numbers_list)\n",
    "        print(out)\n"
   ]
  },
  {
   "cell_type": "markdown",
   "id": "e8660213-174b-4805-9400-3ce2d345d5ab",
   "metadata": {},
   "source": [
    "### Q6. Write a python program to create 4 processes, each process should print a different number using the multiprocessing module in python."
   ]
  },
  {
   "cell_type": "code",
   "execution_count": 3,
   "id": "e86e8dc4-d275-4484-9a07-6a0151fd65ab",
   "metadata": {},
   "outputs": [
    {
     "name": "stdout",
     "output_type": "stream",
     "text": [
      "Square: 100\n",
      "Cube: 1000\n",
      "Square Root: 3.1622776601683795\n",
      "Cube Root: 2.154434690031884\n"
     ]
    }
   ],
   "source": [
    "import multiprocessing\n",
    "\n",
    "def cube(num):\n",
    "    \n",
    "    print(\"Cube: {}\".format(num**3))\n",
    "\n",
    "def square(num):\n",
    "    \n",
    "    print(\"Square: {}\".format(num**2))\n",
    "    \n",
    "def sq_root(num):\n",
    "    \n",
    "    print(\"Square Root: {}\".format(num**(0.5)))\n",
    "    \n",
    "def cube_root(num):\n",
    "    \n",
    "    print('Cube Root: {}'.format(num**(1/3)))\n",
    "          \n",
    "\n",
    "if __name__ == \"__main__\":\n",
    "    \n",
    "    p1 = multiprocessing.Process(target= square, args=(10, ))\n",
    "    p2 = multiprocessing.Process(target= cube, args=(10, ))\n",
    "    p3 = multiprocessing.Process(target=sq_root, args=(10,))\n",
    "    p4 = multiprocessing.Process(target=cube_root, args=(10,))\n",
    "    \n",
    "    p1.start()\n",
    "    p2.start()\n",
    "    p3.start()\n",
    "    p4.start()\n",
    "    p1.join()\n",
    "    p2.join()\n",
    "    p3.join()\n",
    "    p4.join()"
   ]
  }
 ],
 "metadata": {
  "kernelspec": {
   "display_name": "Python 3 (ipykernel)",
   "language": "python",
   "name": "python3"
  },
  "language_info": {
   "codemirror_mode": {
    "name": "ipython",
    "version": 3
   },
   "file_extension": ".py",
   "mimetype": "text/x-python",
   "name": "python",
   "nbconvert_exporter": "python",
   "pygments_lexer": "ipython3",
   "version": "3.9.13"
  }
 },
 "nbformat": 4,
 "nbformat_minor": 5
}
